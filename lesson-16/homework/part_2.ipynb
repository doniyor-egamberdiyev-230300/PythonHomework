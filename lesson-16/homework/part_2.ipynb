{
 "cells": [
  {
   "metadata": {},
   "cell_type": "markdown",
   "source": "### Task 1",
   "id": "edd1f11f5f84f274"
  },
  {
   "cell_type": "code",
   "id": "initial_id",
   "metadata": {
    "collapsed": true,
    "ExecuteTime": {
     "end_time": "2025-04-06T19:05:44.978882Z",
     "start_time": "2025-04-06T19:05:44.959098Z"
    }
   },
   "source": [
    "import pandas as pd\n",
    "\n",
    "# Load and lowercase column names\n",
    "df = pd.read_json(\"iris.json\")\n",
    "df.columns = df.columns.str.lower()\n",
    "\n",
    "# Display column names to verify\n",
    "print(df.columns.tolist())\n",
    "\n",
    "# Select only sepal_length and sepal_width (which are 'sepallength' and 'sepalwidth')\n",
    "df_selected = df[['sepallength', 'sepalwidth']]\n",
    "\n",
    "# Show the result\n",
    "print(df_selected.head())\n"
   ],
   "outputs": [
    {
     "name": "stdout",
     "output_type": "stream",
     "text": [
      "['sepallength', 'sepalwidth', 'petallength', 'petalwidth', 'species']\n",
      "   sepallength  sepalwidth\n",
      "0          5.1         3.5\n",
      "1          4.9         3.0\n",
      "2          4.7         3.2\n",
      "3          4.6         3.1\n",
      "4          5.0         3.6\n"
     ]
    }
   ],
   "execution_count": 39
  },
  {
   "metadata": {},
   "cell_type": "markdown",
   "source": "### Task 2",
   "id": "cc4ab861da0b7e86"
  },
  {
   "metadata": {
    "ExecuteTime": {
     "end_time": "2025-04-06T19:05:54.829791Z",
     "start_time": "2025-04-06T19:05:54.712614Z"
    }
   },
   "cell_type": "code",
   "source": [
    "import pandas as pd\n",
    "\n",
    "# Assuming you've already loaded the Titanic DataFrame\n",
    "df_titanic = pd.read_excel('titanic.xlsx')\n",
    "\n",
    "# Filter rows where the age of passengers is above 30\n",
    "filtered_df = df_titanic[df_titanic['Age'] > 30]\n",
    "\n",
    "# Count the number of male and female passengers\n",
    "gender_counts = filtered_df['Sex'].value_counts()\n",
    "\n",
    "# Display the gender counts\n",
    "print(gender_counts)\n"
   ],
   "id": "226b7a3a1c7cc37c",
   "outputs": [
    {
     "ename": "ImportError",
     "evalue": "Pandas requires version '3.1.0' or newer of 'openpyxl' (version '3.0.7' currently installed).",
     "output_type": "error",
     "traceback": [
      "\u001B[31m---------------------------------------------------------------------------\u001B[39m",
      "\u001B[31mImportError\u001B[39m                               Traceback (most recent call last)",
      "\u001B[36mCell\u001B[39m\u001B[36m \u001B[39m\u001B[32mIn[40]\u001B[39m\u001B[32m, line 4\u001B[39m\n\u001B[32m      1\u001B[39m \u001B[38;5;28;01mimport\u001B[39;00m\u001B[38;5;250m \u001B[39m\u001B[34;01mpandas\u001B[39;00m\u001B[38;5;250m \u001B[39m\u001B[38;5;28;01mas\u001B[39;00m\u001B[38;5;250m \u001B[39m\u001B[34;01mpd\u001B[39;00m\n\u001B[32m      3\u001B[39m \u001B[38;5;66;03m# Assuming you've already loaded the Titanic DataFrame\u001B[39;00m\n\u001B[32m----> \u001B[39m\u001B[32m4\u001B[39m df_titanic = \u001B[43mpd\u001B[49m\u001B[43m.\u001B[49m\u001B[43mread_excel\u001B[49m\u001B[43m(\u001B[49m\u001B[33;43m'\u001B[39;49m\u001B[33;43mtitanic.xlsx\u001B[39;49m\u001B[33;43m'\u001B[39;49m\u001B[43m)\u001B[49m\n\u001B[32m      6\u001B[39m \u001B[38;5;66;03m# Filter rows where the age of passengers is above 30\u001B[39;00m\n\u001B[32m      7\u001B[39m filtered_df = df_titanic[df_titanic[\u001B[33m'\u001B[39m\u001B[33mAge\u001B[39m\u001B[33m'\u001B[39m] > \u001B[32m30\u001B[39m]\n",
      "\u001B[36mFile \u001B[39m\u001B[32m~\\Desktop\\Data Science\\pythonProject\\.venv\\Lib\\site-packages\\pandas\\io\\excel\\_base.py:495\u001B[39m, in \u001B[36mread_excel\u001B[39m\u001B[34m(io, sheet_name, header, names, index_col, usecols, dtype, engine, converters, true_values, false_values, skiprows, nrows, na_values, keep_default_na, na_filter, verbose, parse_dates, date_parser, date_format, thousands, decimal, comment, skipfooter, storage_options, dtype_backend, engine_kwargs)\u001B[39m\n\u001B[32m    493\u001B[39m \u001B[38;5;28;01mif\u001B[39;00m \u001B[38;5;129;01mnot\u001B[39;00m \u001B[38;5;28misinstance\u001B[39m(io, ExcelFile):\n\u001B[32m    494\u001B[39m     should_close = \u001B[38;5;28;01mTrue\u001B[39;00m\n\u001B[32m--> \u001B[39m\u001B[32m495\u001B[39m     io = \u001B[43mExcelFile\u001B[49m\u001B[43m(\u001B[49m\n\u001B[32m    496\u001B[39m \u001B[43m        \u001B[49m\u001B[43mio\u001B[49m\u001B[43m,\u001B[49m\n\u001B[32m    497\u001B[39m \u001B[43m        \u001B[49m\u001B[43mstorage_options\u001B[49m\u001B[43m=\u001B[49m\u001B[43mstorage_options\u001B[49m\u001B[43m,\u001B[49m\n\u001B[32m    498\u001B[39m \u001B[43m        \u001B[49m\u001B[43mengine\u001B[49m\u001B[43m=\u001B[49m\u001B[43mengine\u001B[49m\u001B[43m,\u001B[49m\n\u001B[32m    499\u001B[39m \u001B[43m        \u001B[49m\u001B[43mengine_kwargs\u001B[49m\u001B[43m=\u001B[49m\u001B[43mengine_kwargs\u001B[49m\u001B[43m,\u001B[49m\n\u001B[32m    500\u001B[39m \u001B[43m    \u001B[49m\u001B[43m)\u001B[49m\n\u001B[32m    501\u001B[39m \u001B[38;5;28;01melif\u001B[39;00m engine \u001B[38;5;129;01mand\u001B[39;00m engine != io.engine:\n\u001B[32m    502\u001B[39m     \u001B[38;5;28;01mraise\u001B[39;00m \u001B[38;5;167;01mValueError\u001B[39;00m(\n\u001B[32m    503\u001B[39m         \u001B[33m\"\u001B[39m\u001B[33mEngine should not be specified when passing \u001B[39m\u001B[33m\"\u001B[39m\n\u001B[32m    504\u001B[39m         \u001B[33m\"\u001B[39m\u001B[33man ExcelFile - ExcelFile already has the engine set\u001B[39m\u001B[33m\"\u001B[39m\n\u001B[32m    505\u001B[39m     )\n",
      "\u001B[36mFile \u001B[39m\u001B[32m~\\Desktop\\Data Science\\pythonProject\\.venv\\Lib\\site-packages\\pandas\\io\\excel\\_base.py:1567\u001B[39m, in \u001B[36mExcelFile.__init__\u001B[39m\u001B[34m(self, path_or_buffer, engine, storage_options, engine_kwargs)\u001B[39m\n\u001B[32m   1564\u001B[39m \u001B[38;5;28mself\u001B[39m.engine = engine\n\u001B[32m   1565\u001B[39m \u001B[38;5;28mself\u001B[39m.storage_options = storage_options\n\u001B[32m-> \u001B[39m\u001B[32m1567\u001B[39m \u001B[38;5;28mself\u001B[39m._reader = \u001B[38;5;28;43mself\u001B[39;49m\u001B[43m.\u001B[49m\u001B[43m_engines\u001B[49m\u001B[43m[\u001B[49m\u001B[43mengine\u001B[49m\u001B[43m]\u001B[49m\u001B[43m(\u001B[49m\n\u001B[32m   1568\u001B[39m \u001B[43m    \u001B[49m\u001B[38;5;28;43mself\u001B[39;49m\u001B[43m.\u001B[49m\u001B[43m_io\u001B[49m\u001B[43m,\u001B[49m\n\u001B[32m   1569\u001B[39m \u001B[43m    \u001B[49m\u001B[43mstorage_options\u001B[49m\u001B[43m=\u001B[49m\u001B[43mstorage_options\u001B[49m\u001B[43m,\u001B[49m\n\u001B[32m   1570\u001B[39m \u001B[43m    \u001B[49m\u001B[43mengine_kwargs\u001B[49m\u001B[43m=\u001B[49m\u001B[43mengine_kwargs\u001B[49m\u001B[43m,\u001B[49m\n\u001B[32m   1571\u001B[39m \u001B[43m\u001B[49m\u001B[43m)\u001B[49m\n",
      "\u001B[36mFile \u001B[39m\u001B[32m~\\Desktop\\Data Science\\pythonProject\\.venv\\Lib\\site-packages\\pandas\\io\\excel\\_openpyxl.py:552\u001B[39m, in \u001B[36mOpenpyxlReader.__init__\u001B[39m\u001B[34m(self, filepath_or_buffer, storage_options, engine_kwargs)\u001B[39m\n\u001B[32m    534\u001B[39m \u001B[38;5;129m@doc\u001B[39m(storage_options=_shared_docs[\u001B[33m\"\u001B[39m\u001B[33mstorage_options\u001B[39m\u001B[33m\"\u001B[39m])\n\u001B[32m    535\u001B[39m \u001B[38;5;28;01mdef\u001B[39;00m\u001B[38;5;250m \u001B[39m\u001B[34m__init__\u001B[39m(\n\u001B[32m    536\u001B[39m     \u001B[38;5;28mself\u001B[39m,\n\u001B[32m   (...)\u001B[39m\u001B[32m    539\u001B[39m     engine_kwargs: \u001B[38;5;28mdict\u001B[39m | \u001B[38;5;28;01mNone\u001B[39;00m = \u001B[38;5;28;01mNone\u001B[39;00m,\n\u001B[32m    540\u001B[39m ) -> \u001B[38;5;28;01mNone\u001B[39;00m:\n\u001B[32m    541\u001B[39m \u001B[38;5;250m    \u001B[39m\u001B[33;03m\"\"\"\u001B[39;00m\n\u001B[32m    542\u001B[39m \u001B[33;03m    Reader using openpyxl engine.\u001B[39;00m\n\u001B[32m    543\u001B[39m \n\u001B[32m   (...)\u001B[39m\u001B[32m    550\u001B[39m \u001B[33;03m        Arbitrary keyword arguments passed to excel engine.\u001B[39;00m\n\u001B[32m    551\u001B[39m \u001B[33;03m    \"\"\"\u001B[39;00m\n\u001B[32m--> \u001B[39m\u001B[32m552\u001B[39m     \u001B[43mimport_optional_dependency\u001B[49m\u001B[43m(\u001B[49m\u001B[33;43m\"\u001B[39;49m\u001B[33;43mopenpyxl\u001B[39;49m\u001B[33;43m\"\u001B[39;49m\u001B[43m)\u001B[49m\n\u001B[32m    553\u001B[39m     \u001B[38;5;28msuper\u001B[39m().\u001B[34m__init__\u001B[39m(\n\u001B[32m    554\u001B[39m         filepath_or_buffer,\n\u001B[32m    555\u001B[39m         storage_options=storage_options,\n\u001B[32m    556\u001B[39m         engine_kwargs=engine_kwargs,\n\u001B[32m    557\u001B[39m     )\n",
      "\u001B[36mFile \u001B[39m\u001B[32m~\\Desktop\\Data Science\\pythonProject\\.venv\\Lib\\site-packages\\pandas\\compat\\_optional.py:164\u001B[39m, in \u001B[36mimport_optional_dependency\u001B[39m\u001B[34m(name, extra, errors, min_version)\u001B[39m\n\u001B[32m    162\u001B[39m     \u001B[38;5;28;01mreturn\u001B[39;00m \u001B[38;5;28;01mNone\u001B[39;00m\n\u001B[32m    163\u001B[39m \u001B[38;5;28;01melif\u001B[39;00m errors == \u001B[33m\"\u001B[39m\u001B[33mraise\u001B[39m\u001B[33m\"\u001B[39m:\n\u001B[32m--> \u001B[39m\u001B[32m164\u001B[39m     \u001B[38;5;28;01mraise\u001B[39;00m \u001B[38;5;167;01mImportError\u001B[39;00m(msg)\n\u001B[32m    165\u001B[39m \u001B[38;5;28;01melse\u001B[39;00m:\n\u001B[32m    166\u001B[39m     \u001B[38;5;28;01mreturn\u001B[39;00m \u001B[38;5;28;01mNone\u001B[39;00m\n",
      "\u001B[31mImportError\u001B[39m: Pandas requires version '3.1.0' or newer of 'openpyxl' (version '3.0.7' currently installed)."
     ]
    }
   ],
   "execution_count": 40
  },
  {
   "metadata": {},
   "cell_type": "markdown",
   "source": "### Task 3",
   "id": "118c287cdc8d6ad1"
  },
  {
   "metadata": {
    "ExecuteTime": {
     "end_time": "2025-04-06T19:05:57.843741Z",
     "start_time": "2025-04-06T19:05:57.655067Z"
    }
   },
   "cell_type": "code",
   "source": [
    "import pandas as pd\n",
    "\n",
    "# Load the Parquet file (ensure to update the path with the correct file location)\n",
    "flights = pd.read_parquet('flights.parquet')\n",
    "\n",
    "# Extract the required columns: 'origin', 'dest', and 'carrier'\n",
    "flights_selected_columns = flights[['origin', 'dest', 'carrier']]\n",
    "\n",
    "# Find the number of unique destinations\n",
    "unique_destinations = flights['dest'].nunique()\n",
    "\n",
    "flights_selected_columns.head(), unique_destinations\n"
   ],
   "id": "42f2a958230fb698",
   "outputs": [
    {
     "data": {
      "text/plain": [
       "(  origin dest carrier\n",
       " 0    EWR  IAH      UA\n",
       " 1    LGA  IAH      UA\n",
       " 2    JFK  MIA      AA\n",
       " 3    JFK  BQN      B6\n",
       " 4    LGA  ATL      DL,\n",
       " 105)"
      ]
     },
     "execution_count": 41,
     "metadata": {},
     "output_type": "execute_result"
    }
   ],
   "execution_count": 41
  },
  {
   "metadata": {},
   "cell_type": "markdown",
   "source": "### Task 4",
   "id": "72a00e7415b9bebb"
  },
  {
   "metadata": {
    "ExecuteTime": {
     "end_time": "2025-04-06T19:06:44.874856Z",
     "start_time": "2025-04-06T19:06:44.850209Z"
    }
   },
   "cell_type": "code",
   "source": [
    "import pandas as pd\n",
    "\n",
    "# Load the movie.csv file\n",
    "df = pd.read_csv('movie.csv')\n",
    "\n",
    "# Filter rows where duration is greater than 120 minutes\n",
    "filtered_df = df[df['Duration'] > 120]\n",
    "\n",
    "# Sort the filtered DataFrame by 'director_facebook_likes' in descending order\n",
    "sorted_df = filtered_df.sort_values(by='Director_facebook_likes', ascending=False)\n",
    "\n",
    "# Display the sorted DataFrame\n",
    "print(sorted_df)\n"
   ],
   "id": "fe619f93da5039e8",
   "outputs": [
    {
     "name": "stdout",
     "output_type": "stream",
     "text": [
      "                                  Film    Genre   Lead Studio  \\\n",
      "6  The Curious Case of Benjamin Button  Fantasy  Warner Bros.   \n",
      "0                  Across the Universe  romance   Independent   \n",
      "2                   Sex and the City 2   Comedy  Warner Bros.   \n",
      "8                     Sex and the City   Comedy  Warner Bros.   \n",
      "\n",
      "   Audience score %  Profitability  Rotten Tomatoes % Worldwide Gross  Year  \\\n",
      "6                81       1.783944                 73         $285.43  2008   \n",
      "0                84       0.652603                 54          $29.37  2007   \n",
      "2                49       2.883500                 15         $288.35  2010   \n",
      "8                81       7.221796                 49         $415.25  2008   \n",
      "\n",
      "   Duration  Director_facebook_likes              Director  \n",
      "6       165                    23456         David Fincher  \n",
      "0       130                    12345          Julie Taymor  \n",
      "2       125                     2345  Michael Patrick King  \n",
      "8       148                     1234  Michael Patrick King  \n"
     ]
    }
   ],
   "execution_count": 42
  }
 ],
 "metadata": {
  "kernelspec": {
   "display_name": "Python 3",
   "language": "python",
   "name": "python3"
  },
  "language_info": {
   "codemirror_mode": {
    "name": "ipython",
    "version": 2
   },
   "file_extension": ".py",
   "mimetype": "text/x-python",
   "name": "python",
   "nbconvert_exporter": "python",
   "pygments_lexer": "ipython2",
   "version": "2.7.6"
  }
 },
 "nbformat": 4,
 "nbformat_minor": 5
}
