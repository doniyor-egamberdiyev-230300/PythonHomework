{
 "cells": [
  {
   "cell_type": "code",
   "id": "initial_id",
   "metadata": {
    "collapsed": true,
    "ExecuteTime": {
     "end_time": "2025-04-06T18:40:09.312588Z",
     "start_time": "2025-04-06T18:40:09.283115Z"
    }
   },
   "source": [
    "import pandas as pd\n",
    "\n",
    "# Load the dataset\n",
    "iris_df = pd.read_json(\"iris.json\")\n",
    "\n",
    "# Calculate mean, median, and standard deviation for each numerical column\n",
    "mean_values = iris_df.mean(numeric_only=True)\n",
    "median_values = iris_df.median(numeric_only=True)\n",
    "std_dev_values = iris_df.std(numeric_only=True)\n",
    "\n",
    "# Display the results\n",
    "print(\"Mean values:\")\n",
    "print(mean_values)\n",
    "\n",
    "print(\"\\nMedian values:\")\n",
    "print(median_values)\n",
    "\n",
    "print(\"\\nStandard Deviation values:\")\n",
    "print(std_dev_values)\n"
   ],
   "outputs": [
    {
     "name": "stdout",
     "output_type": "stream",
     "text": [
      "Mean values:\n",
      "sepalLength    5.813986\n",
      "sepalWidth     3.057343\n",
      "petalLength    3.679720\n",
      "petalWidth     1.152448\n",
      "dtype: float64\n",
      "\n",
      "Median values:\n",
      "sepalLength    5.7\n",
      "sepalWidth     3.0\n",
      "petalLength    4.2\n",
      "petalWidth     1.3\n",
      "dtype: float64\n",
      "\n",
      "Standard Deviation values:\n",
      "sepalLength    0.834519\n",
      "sepalWidth     0.442383\n",
      "petalLength    1.770039\n",
      "petalWidth     0.747939\n",
      "dtype: float64\n"
     ]
    }
   ],
   "execution_count": 4
  },
  {
   "metadata": {
    "ExecuteTime": {
     "end_time": "2025-04-06T19:08:26.440645Z",
     "start_time": "2025-04-06T19:08:26.275965Z"
    }
   },
   "cell_type": "code",
   "source": [
    "import pandas as pd\n",
    "\n",
    "# Load the Titanic dataset from the Excel file\n",
    "titanic_df = pd.read_excel(\"titanic.xlsx\")\n",
    "\n",
    "# Check for missing values in the 'Age' column and handle them (if needed)\n",
    "# For this example, we will assume there are no missing values, but you could fill them if necessary.\n",
    "# titanic_df['Age'].fillna(titanic_df['Age'].mean(), inplace=True)\n",
    "\n",
    "# Find the minimum, maximum, and sum of passenger ages\n",
    "min_age = titanic_df['Age'].min()\n",
    "max_age = titanic_df['Age'].max()\n",
    "sum_age = titanic_df['Age'].sum()\n",
    "\n",
    "# Display the results\n",
    "print(f\"Minimum Age: {min_age}\")\n",
    "print(f\"Maximum Age: {max_age}\")\n",
    "print(f\"Sum of Ages: {sum_age}\")\n"
   ],
   "id": "d022bf2aa7fd9f6e",
   "outputs": [
    {
     "name": "stdout",
     "output_type": "stream",
     "text": [
      "Minimum Age: 0.42\n",
      "Maximum Age: 80.0\n",
      "Sum of Ages: 21205.17\n"
     ]
    }
   ],
   "execution_count": 13
  },
  {
   "metadata": {
    "ExecuteTime": {
     "end_time": "2025-04-06T19:08:03.380216Z",
     "start_time": "2025-04-06T19:08:03.351294Z"
    }
   },
   "cell_type": "code",
   "source": [
    "import pandas as pd\n",
    "\n",
    "# Load the movie dataset from the CSV file\n",
    "movie_df = pd.read_csv(\"movie.csv\")\n",
    "\n",
    "# Assuming that the 'director_facebook_likes' column exists in your dataset and is numeric:\n",
    "# Identify the director with the highest total director_facebook_likes\n",
    "director_likes = movie_df.groupby('Director')['Director_facebook_likes'].sum()\n",
    "top_director = director_likes.idxmax()\n",
    "top_director_likes = director_likes.max()\n",
    "\n",
    "print(f\"The director with the highest total 'director_facebook_likes' is {top_director} with {top_director_likes} likes.\")\n",
    "\n",
    "# Now, find the 5 longest movies and their respective directors:\n",
    "# First, we need to ensure that 'duration' column is numeric. If not, we may need to clean or convert it.\n",
    "# Sorting the DataFrame based on 'duration' in descending order\n",
    "longest_movies = movie_df[['Film', 'Director', 'Duration']].sort_values(by='Duration', ascending=False).head(5)\n",
    "\n",
    "print(\"\\nTop 5 Longest Movies and their Directors:\")\n",
    "print(longest_movies)\n"
   ],
   "id": "a98eee8b13a4db23",
   "outputs": [
    {
     "name": "stdout",
     "output_type": "stream",
     "text": [
      "The director with the highest total 'director_facebook_likes' is David Fincher with 23456 likes.\n",
      "\n",
      "Top 5 Longest Movies and their Directors:\n",
      "                                  Film              Director  Duration\n",
      "6  The Curious Case of Benjamin Button         David Fincher       165\n",
      "8                     Sex and the City  Michael Patrick King       148\n",
      "0                  Across the Universe          Julie Taymor       130\n",
      "2                   Sex and the City 2  Michael Patrick King       125\n",
      "3                What Happens in Vegas           Tom Vaughan       115\n"
     ]
    }
   ],
   "execution_count": 12
  },
  {
   "metadata": {
    "ExecuteTime": {
     "end_time": "2025-04-06T19:09:09.959353Z",
     "start_time": "2025-04-06T19:09:09.770896Z"
    }
   },
   "cell_type": "code",
   "source": [
    "# Load Flights parquet file\n",
    "flights_df = pd.read_parquet(\"flights.parquet\")\n",
    "\n",
    "# Check for missing values\n",
    "missing_values = flights_df.isnull().sum()\n",
    "\n",
    "# Fill missing values in only numerical columns with their respective column mean\n",
    "numerical_columns = flights_df.select_dtypes(include=['number']).columns\n",
    "flights_df_filled = flights_df.copy()\n",
    "flights_df_filled[numerical_columns] = flights_df_filled[numerical_columns].fillna(flights_df[numerical_columns].mean())\n",
    "\n",
    "# Display the missing values before filling and the DataFrame after filling\n",
    "print(\"Missing values before filling:\\n\", missing_values)\n",
    "print(\"\\nDataFrame after filling missing values:\\n\", flights_df_filled.head())\n"
   ],
   "id": "bcf865e772927c07",
   "outputs": [
    {
     "name": "stdout",
     "output_type": "stream",
     "text": [
      "Missing values before filling:\n",
      " year                 0\n",
      "month                0\n",
      "day                  0\n",
      "dep_time          8255\n",
      "sched_dep_time       0\n",
      "dep_delay         8255\n",
      "arr_time          8713\n",
      "sched_arr_time       0\n",
      "arr_delay         9430\n",
      "carrier              0\n",
      "flight               0\n",
      "tailnum           2512\n",
      "origin               0\n",
      "dest                 0\n",
      "air_time          9430\n",
      "distance             0\n",
      "hour                 0\n",
      "minute               0\n",
      "time_hour            0\n",
      "dtype: int64\n",
      "\n",
      "DataFrame after filling missing values:\n",
      "    year  month  day  dep_time  sched_dep_time  dep_delay  arr_time  \\\n",
      "0  2013      1    1     517.0             515        2.0     830.0   \n",
      "1  2013      1    1     533.0             529        4.0     850.0   \n",
      "2  2013      1    1     542.0             540        2.0     923.0   \n",
      "3  2013      1    1     544.0             545       -1.0    1004.0   \n",
      "4  2013      1    1     554.0             600       -6.0     812.0   \n",
      "\n",
      "   sched_arr_time  arr_delay carrier  flight tailnum origin dest  air_time  \\\n",
      "0             819       11.0      UA    1545  N14228    EWR  IAH     227.0   \n",
      "1             830       20.0      UA    1714  N24211    LGA  IAH     227.0   \n",
      "2             850       33.0      AA    1141  N619AA    JFK  MIA     160.0   \n",
      "3            1022      -18.0      B6     725  N804JB    JFK  BQN     183.0   \n",
      "4             837      -25.0      DL     461  N668DN    LGA  ATL     116.0   \n",
      "\n",
      "   distance  hour  minute           time_hour  \n",
      "0      1400     5      15 2013-01-01 05:00:00  \n",
      "1      1416     5      29 2013-01-01 05:00:00  \n",
      "2      1089     5      40 2013-01-01 05:00:00  \n",
      "3      1576     5      45 2013-01-01 05:00:00  \n",
      "4       762     6       0 2013-01-01 06:00:00  \n"
     ]
    }
   ],
   "execution_count": 15
  }
 ],
 "metadata": {
  "kernelspec": {
   "display_name": "Python 3",
   "language": "python",
   "name": "python3"
  },
  "language_info": {
   "codemirror_mode": {
    "name": "ipython",
    "version": 2
   },
   "file_extension": ".py",
   "mimetype": "text/x-python",
   "name": "python",
   "nbconvert_exporter": "python",
   "pygments_lexer": "ipython2",
   "version": "2.7.6"
  }
 },
 "nbformat": 4,
 "nbformat_minor": 5
}
