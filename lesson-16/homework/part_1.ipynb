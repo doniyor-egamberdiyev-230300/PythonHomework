{
 "cells": [
  {
   "metadata": {},
   "cell_type": "markdown",
   "source": "### Task 1\n",
   "id": "67e61af9e4148594"
  },
  {
   "metadata": {
    "ExecuteTime": {
     "end_time": "2025-04-06T18:28:10.073357Z",
     "start_time": "2025-04-06T18:28:10.042614Z"
    }
   },
   "cell_type": "code",
   "source": [
    "import sqlite3\n",
    "import pandas as pd\n",
    "\n",
    "# Connect to the Chinook database\n",
    "conn = sqlite3.connect('chinook.db')  # Update this with your actual database path\n",
    "\n",
    "# Query to read the 'customers' table into a pandas DataFrame\n",
    "query = \"SELECT * FROM customers\"\n",
    "df = pd.read_sql(query, conn)\n",
    "\n",
    "# Display the first 10 rows\n",
    "print(df.head(10))\n",
    "\n",
    "# Close the database connection\n",
    "conn.close()\n"
   ],
   "id": "5374f5900861715f",
   "outputs": [
    {
     "name": "stdout",
     "output_type": "stream",
     "text": [
      "   CustomerId  FirstName     LastName  \\\n",
      "0           1       Luís    Gonçalves   \n",
      "1           2     Leonie       Köhler   \n",
      "2           3   François     Tremblay   \n",
      "3           4      Bjørn       Hansen   \n",
      "4           5  František  Wichterlová   \n",
      "5           6     Helena         Holý   \n",
      "6           7     Astrid       Gruber   \n",
      "7           8       Daan      Peeters   \n",
      "8           9       Kara      Nielsen   \n",
      "9          10    Eduardo      Martins   \n",
      "\n",
      "                                            Company  \\\n",
      "0  Embraer - Empresa Brasileira de Aeronáutica S.A.   \n",
      "1                                              None   \n",
      "2                                              None   \n",
      "3                                              None   \n",
      "4                                  JetBrains s.r.o.   \n",
      "5                                              None   \n",
      "6                                              None   \n",
      "7                                              None   \n",
      "8                                              None   \n",
      "9                                  Woodstock Discos   \n",
      "\n",
      "                                Address                 City State  \\\n",
      "0       Av. Brigadeiro Faria Lima, 2170  São José dos Campos    SP   \n",
      "1               Theodor-Heuss-Straße 34            Stuttgart  None   \n",
      "2                     1498 rue Bélanger             Montréal    QC   \n",
      "3                      Ullevålsveien 14                 Oslo  None   \n",
      "4                         Klanova 9/506               Prague  None   \n",
      "5                         Rilská 3174/6               Prague  None   \n",
      "6  Rotenturmstraße 4, 1010 Innere Stadt               Vienne  None   \n",
      "7                       Grétrystraat 63             Brussels  None   \n",
      "8                   Sønder Boulevard 51           Copenhagen  None   \n",
      "9             Rua Dr. Falcão Filho, 155            São Paulo    SP   \n",
      "\n",
      "          Country PostalCode               Phone                 Fax  \\\n",
      "0          Brazil  12227-000  +55 (12) 3923-5555  +55 (12) 3923-5566   \n",
      "1         Germany      70174    +49 0711 2842222                None   \n",
      "2          Canada    H2G 1A7   +1 (514) 721-4711                None   \n",
      "3          Norway       0171     +47 22 44 22 22                None   \n",
      "4  Czech Republic      14700    +420 2 4172 5555    +420 2 4172 5555   \n",
      "5  Czech Republic      14300    +420 2 4177 0449                None   \n",
      "6         Austria       1010      +43 01 5134505                None   \n",
      "7         Belgium       1000    +32 02 219 03 03                None   \n",
      "8         Denmark       1720      +453 3331 9991                None   \n",
      "9          Brazil  01007-010  +55 (11) 3033-5446  +55 (11) 3033-4564   \n",
      "\n",
      "                      Email  SupportRepId  \n",
      "0      luisg@embraer.com.br             3  \n",
      "1     leonekohler@surfeu.de             5  \n",
      "2       ftremblay@gmail.com             3  \n",
      "3     bjorn.hansen@yahoo.no             4  \n",
      "4  frantisekw@jetbrains.com             4  \n",
      "5           hholy@gmail.com             5  \n",
      "6    astrid.gruber@apple.at             5  \n",
      "7     daan_peeters@apple.be             4  \n",
      "8     kara.nielsen@jubii.dk             4  \n",
      "9  eduardo@woodstock.com.br             4  \n"
     ]
    }
   ],
   "execution_count": 93
  },
  {
   "metadata": {},
   "cell_type": "markdown",
   "source": "### Task 2",
   "id": "469ce7ade55c2155"
  },
  {
   "metadata": {
    "ExecuteTime": {
     "end_time": "2025-04-06T18:19:54.275744Z",
     "start_time": "2025-04-06T18:19:54.263401Z"
    }
   },
   "cell_type": "code",
   "source": [
    "# JSON faylni yuklash\n",
    "df_iris = pd.read_json('iris.json')\n",
    "\n",
    "# DataFrame shakli va ustun nomlarini ko'rsatish\n",
    "print(\"Shape of the dataset:\", df_iris.shape)\n",
    "print(\"Column names:\", df_iris.columns)\n"
   ],
   "id": "dc3dd105c8d0bfce",
   "outputs": [
    {
     "name": "stdout",
     "output_type": "stream",
     "text": [
      "Shape of the dataset: (143, 5)\n",
      "Column names: Index(['sepalLength', 'sepalWidth', 'petalLength', 'petalWidth', 'species'], dtype='object')\n"
     ]
    }
   ],
   "execution_count": 80
  },
  {
   "metadata": {},
   "cell_type": "markdown",
   "source": "### Task 3\n",
   "id": "eac6da83a3d0f2fe"
  },
  {
   "metadata": {
    "ExecuteTime": {
     "end_time": "2025-04-06T18:15:48.285741Z",
     "start_time": "2025-04-06T18:15:48.117668Z"
    }
   },
   "cell_type": "code",
   "source": [
    "df_titanic = pd.read_excel('titanic.xlsx')\n",
    "\n",
    "\n",
    "print(df_titanic.head())\n"
   ],
   "id": "300d5997283ce261",
   "outputs": [
    {
     "name": "stdout",
     "output_type": "stream",
     "text": [
      "   PassengerId  Survived  Pclass  \\\n",
      "0            1         0       3   \n",
      "1            2         1       1   \n",
      "2            3         1       3   \n",
      "3            4         1       1   \n",
      "4            5         0       3   \n",
      "\n",
      "                                                Name     Sex   Age  SibSp  \\\n",
      "0                            Braund, Mr. Owen Harris    male  22.0      1   \n",
      "1  Cumings, Mrs. John Bradley (Florence Briggs Th...  female  38.0      1   \n",
      "2                             Heikkinen, Miss. Laina  female  26.0      0   \n",
      "3       Futrelle, Mrs. Jacques Heath (Lily May Peel)  female  35.0      1   \n",
      "4                           Allen, Mr. William Henry    male  35.0      0   \n",
      "\n",
      "   Parch            Ticket     Fare Cabin Embarked  \n",
      "0      0         A/5 21171   7.2500   NaN        S  \n",
      "1      0          PC 17599  71.2833   C85        C  \n",
      "2      0  STON/O2. 3101282   7.9250   NaN        S  \n",
      "3      0            113803  53.1000  C123        S  \n",
      "4      0            373450   8.0500   NaN        S  \n"
     ]
    }
   ],
   "execution_count": 72
  },
  {
   "metadata": {},
   "cell_type": "markdown",
   "source": "### Task 4\n",
   "id": "7fede341483b2749"
  },
  {
   "metadata": {
    "ExecuteTime": {
     "end_time": "2025-04-06T17:12:18.217940Z",
     "start_time": "2025-04-06T17:12:17.330777Z"
    }
   },
   "cell_type": "code",
   "source": [
    "import pandas as pd\n",
    "\n",
    "# Specify the path to your Parquet file\n",
    "file_path = 'flights.parquet'  # Replace with your actual file path\n",
    "\n",
    "# Read the Parquet file into a DataFrame\n",
    "df_flights = pd.read_parquet(file_path, engine='pyarrow')  # or use engine='fastparquet'\n",
    "\n",
    "# Display the summary of the DataFrame\n",
    "df_flights.info()\n"
   ],
   "id": "ee8515ac8043302f",
   "outputs": [
    {
     "name": "stdout",
     "output_type": "stream",
     "text": [
      "<class 'pandas.core.frame.DataFrame'>\n",
      "RangeIndex: 336776 entries, 0 to 336775\n",
      "Data columns (total 19 columns):\n",
      " #   Column          Non-Null Count   Dtype         \n",
      "---  ------          --------------   -----         \n",
      " 0   year            336776 non-null  int16         \n",
      " 1   month           336776 non-null  int8          \n",
      " 2   day             336776 non-null  int8          \n",
      " 3   dep_time        328521 non-null  float64       \n",
      " 4   sched_dep_time  336776 non-null  int16         \n",
      " 5   dep_delay       328521 non-null  float64       \n",
      " 6   arr_time        328063 non-null  float64       \n",
      " 7   sched_arr_time  336776 non-null  int16         \n",
      " 8   arr_delay       327346 non-null  float64       \n",
      " 9   carrier         336776 non-null  object        \n",
      " 10  flight          336776 non-null  int16         \n",
      " 11  tailnum         334264 non-null  object        \n",
      " 12  origin          336776 non-null  object        \n",
      " 13  dest            336776 non-null  object        \n",
      " 14  air_time        327346 non-null  float64       \n",
      " 15  distance        336776 non-null  int16         \n",
      " 16  hour            336776 non-null  int8          \n",
      " 17  minute          336776 non-null  int8          \n",
      " 18  time_hour       336776 non-null  datetime64[ns]\n",
      "dtypes: datetime64[ns](1), float64(5), int16(5), int8(4), object(4)\n",
      "memory usage: 30.2+ MB\n"
     ]
    }
   ],
   "execution_count": 45
  },
  {
   "metadata": {},
   "cell_type": "markdown",
   "source": "### Task 5",
   "id": "1c316ce4971e905a"
  },
  {
   "metadata": {
    "ExecuteTime": {
     "end_time": "2025-04-06T17:35:19.493838Z",
     "start_time": "2025-04-06T17:35:19.472562Z"
    }
   },
   "cell_type": "code",
   "source": [
    "import pandas as pd\n",
    "\n",
    "# Load the CSV file into a DataFrame\n",
    "df_movies = pd.read_csv('movie.csv')\n",
    "\n",
    "# Display a random sample of 10 rows\n",
    "print(df_movies.sample(10))\n"
   ],
   "id": "45161d47e6c75b4d",
   "outputs": [
    {
     "name": "stdout",
     "output_type": "stream",
     "text": [
      "                                  Film    Genre   Lead Studio  \\\n",
      "6  The Curious Case of Benjamin Button  Fantasy  Warner Bros.   \n",
      "4                             Waitress  Romance   Independent   \n",
      "8                     Sex and the City   Comedy  Warner Bros.   \n",
      "3                What Happens in Vegas   Comedy           Fox   \n",
      "7                              One Day  Romance   Independent   \n",
      "5                              Killers   Action     Lionsgate   \n",
      "1                    Letters to Juliet   Comedy        Summit   \n",
      "2                   Sex and the City 2   Comedy  Warner Bros.   \n",
      "0                  Across the Universe  romance   Independent   \n",
      "9                   Something Borrowed  Romance   Independent   \n",
      "\n",
      "   Audience score %  Profitability  Rotten Tomatoes % Worldwide Gross  Year  \n",
      "6                81       1.783944                 73         $285.43  2008  \n",
      "4                67      11.089742                 89          $22.18  2007  \n",
      "8                81       7.221796                 49         $415.25  2008  \n",
      "3                72       6.267647                 28         $219.37  2008  \n",
      "7                54       3.682733                 37          $55.24  2011  \n",
      "5                45       1.245333                 11          $93.40  2010  \n",
      "1                62       2.639333                 40          $79.18  2010  \n",
      "2                49       2.883500                 15         $288.35  2010  \n",
      "0                84       0.652603                 54          $29.37  2007  \n",
      "9                48       1.719514                 15          $60.18  2011  \n"
     ]
    }
   ],
   "execution_count": 67
  }
 ],
 "metadata": {
  "kernelspec": {
   "display_name": "Python 3 (ipykernel)",
   "language": "python",
   "name": "python3"
  },
  "language_info": {
   "codemirror_mode": {
    "name": "ipython",
    "version": 2
   },
   "file_extension": ".py",
   "mimetype": "text/x-python",
   "name": "python",
   "nbconvert_exporter": "python",
   "pygments_lexer": "ipython2",
   "version": "2.7.6"
  }
 },
 "nbformat": 4,
 "nbformat_minor": 5
}
