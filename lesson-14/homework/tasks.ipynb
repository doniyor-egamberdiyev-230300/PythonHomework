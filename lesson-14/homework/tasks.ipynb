{
 "cells": [
  {
   "metadata": {},
   "cell_type": "markdown",
   "source": "### Task 1",
   "id": "30900bbc1dcf39ae"
  },
  {
   "metadata": {
    "ExecuteTime": {
     "end_time": "2025-04-01T18:07:56.350091Z",
     "start_time": "2025-04-01T18:07:55.277061Z"
    }
   },
   "cell_type": "code",
   "source": [
    "import numpy as np\n",
    "\n",
    "# Function to convert Fahrenheit to Celsius\n",
    "def fahrenheit_to_celsius(fahrenheit):\n",
    "    return (fahrenheit - 32) * 5 / 9\n",
    "\n",
    "# Create a numpy vectorized version of the function\n",
    "vectorized_f_to_c = np.vectorize(fahrenheit_to_celsius)\n",
    "\n",
    "# List of temperatures in Fahrenheit\n",
    "temperatures_fahrenheit = [32, 68, 100, 212, 77]\n",
    "\n",
    "# Apply the vectorized function to the list\n",
    "temperatures_celsius = vectorized_f_to_c(temperatures_fahrenheit)\n",
    "\n",
    "print(temperatures_celsius)\n"
   ],
   "id": "b9413effa507191b",
   "outputs": [
    {
     "name": "stdout",
     "output_type": "stream",
     "text": [
      "[  0.          20.          37.77777778 100.          25.        ]\n"
     ]
    }
   ],
   "execution_count": 1
  },
  {
   "metadata": {},
   "cell_type": "markdown",
   "source": "### Task 2\n",
   "id": "8666ffe52c23b4c8"
  },
  {
   "metadata": {
    "ExecuteTime": {
     "end_time": "2025-04-01T18:12:44.036724Z",
     "start_time": "2025-04-01T18:12:44.015768Z"
    }
   },
   "cell_type": "code",
   "source": [
    "\n",
    "\n",
    "# Custom function to calculate the power\n",
    "def calculate_power(base, exponent):\n",
    "    return base ** exponent\n",
    "\n",
    "# Create a numpy vectorized version of the function\n",
    "vectorized_power = np.vectorize(calculate_power)\n",
    "\n",
    "# Arrays of numbers and powers\n",
    "bases = [2, 3, 4, 5]\n",
    "exponents = [1, 2, 3, 4]\n",
    "\n",
    "# Apply the vectorized function to the arrays\n",
    "result = vectorized_power(bases, exponents)\n",
    "\n",
    "print(result)\n"
   ],
   "id": "2e14778a73868430",
   "outputs": [
    {
     "name": "stdout",
     "output_type": "stream",
     "text": [
      "[  2   9  64 625]\n"
     ]
    }
   ],
   "execution_count": 7
  },
  {
   "metadata": {},
   "cell_type": "markdown",
   "source": "### Task 3",
   "id": "4946765152e58d9b"
  },
  {
   "metadata": {
    "ExecuteTime": {
     "end_time": "2025-04-01T18:12:06.350903Z",
     "start_time": "2025-04-01T18:12:06.335802Z"
    }
   },
   "cell_type": "code",
   "source": [
    "\n",
    "\n",
    "# Coefficient matrix\n",
    "A = np.array([[4, 5, 6],\n",
    "              [3, -1, 1],\n",
    "              [2, 1, -2]])\n",
    "\n",
    "# Constants matrix\n",
    "B = np.array([7, 4, 5])\n",
    "\n",
    "# Solve the system of equations\n",
    "solution = np.linalg.solve(A, B)\n",
    "\n",
    "print(solution)\n"
   ],
   "id": "ed0f4910b504ca89",
   "outputs": [
    {
     "name": "stdout",
     "output_type": "stream",
     "text": [
      "[ 1.7027027   0.62162162 -0.48648649]\n"
     ]
    }
   ],
   "execution_count": 6
  },
  {
   "metadata": {},
   "cell_type": "markdown",
   "source": "### Task 4\n",
   "id": "ac0cd8a6b970a412"
  },
  {
   "metadata": {
    "ExecuteTime": {
     "end_time": "2025-04-01T18:21:22.135613Z",
     "start_time": "2025-04-01T18:21:22.123685Z"
    }
   },
   "cell_type": "code",
   "source": [
    "import numpy as np\n",
    "from PIL import Image\n",
    "import os\n",
    "import random\n",
    "# Coefficient matrix\n",
    "A = np.array([[10, -2, 3],\n",
    "              [-2, 8, -1],\n",
    "              [3, -1, 6]])\n",
    "\n",
    "# Constants matrix\n",
    "B = np.array([12, -5, 15])\n",
    "\n",
    "# Solve the system of equations\n",
    "currents = np.linalg.solve(A, B)\n",
    "\n",
    "print(currents)  # This will print the values of I1, I2, and I3\n",
    "\n",
    "\n"
   ],
   "id": "9f0ec53d06348060",
   "outputs": [
    {
     "name": "stdout",
     "output_type": "stream",
     "text": [
      "[ 0.48963731 -0.2253886   2.21761658]\n"
     ]
    }
   ],
   "execution_count": 24
  },
  {
   "metadata": {
    "ExecuteTime": {
     "end_time": "2025-04-01T18:43:10.692222Z",
     "start_time": "2025-04-01T18:43:10.595357Z"
    }
   },
   "cell_type": "code",
   "source": [
    "import numpy as np\n",
    "from PIL import Image\n",
    "import os\n",
    "import random\n",
    "\n",
    "# Ensure that the 'images' folder exists or provide the correct path\n",
    "image_path = \"images/birds.jpg\"\n",
    "\n",
    "# Check if the file exists before opening\n",
    "if os.path.exists(image_path):\n",
    "    # Read the image using PIL\n",
    "    img = Image.open(image_path)\n",
    "    img_array = np.array(img)\n",
    "\n",
    "    # Function to flip the image horizontally and vertically\n",
    "    def flip_image(img_array):\n",
    "        return np.flipud(np.fliplr(img_array))\n",
    "\n",
    "    # Function to add random noise to the image\n",
    "    def add_noise(img_array, noise_factor=0.1):\n",
    "        noise = np.random.randn(*img_array.shape) * noise_factor * 255\n",
    "        noisy_image = img_array + noise\n",
    "        return np.clip(noisy_image, 0, 255).astype(np.uint8)\n",
    "\n",
    "    # Function to brighten the channels (e.g., red channel)\n",
    "    def brighten_channels(img_array, increase_value=40):\n",
    "        img_array = img_array.astype(np.int16)  # Use int16 to avoid overflow\n",
    "        img_array[:, :, 0] += increase_value  # Increase red channel\n",
    "        return np.clip(img_array, 0, 255).astype(np.uint8)\n",
    "\n",
    "    # Function to apply a mask to a rectangular region\n",
    "    def apply_mask(img_array, mask_size=(100, 100), top_left=(img_array.shape[0]//2 - 50, img_array.shape[1]//2 - 50)):\n",
    "        mask = img_array.copy()\n",
    "        x_start, y_start = top_left\n",
    "        x_end, y_end = x_start + mask_size[0], y_start + mask_size[1]\n",
    "        mask[x_start:x_end, y_start:y_end] = [0, 0, 0]  # Set pixels to black\n",
    "        return mask\n",
    "\n",
    "    # Perform the image manipulations\n",
    "    flipped_image = flip_image(img_array)\n",
    "    noisy_image = add_noise(flipped_image)\n",
    "    brightened_image = brighten_channels(noisy_image)\n",
    "    masked_image = apply_mask(brightened_image)\n",
    "\n",
    "    # Convert the numpy array back to an image using PIL and save it\n",
    "    final_image = Image.fromarray(masked_image)\n",
    "    final_image.save(\"images/modified_birds.jpg\")\n",
    "\n",
    "    print(\"Image manipulation complete and saved to 'images/modified_birds.jpg'\")\n",
    "\n",
    "else:\n",
    "    print(f\"Error: The file '{image_path}' does not exist. Please check the path.\")\n"
   ],
   "id": "63e69f89a40f69b3",
   "outputs": [
    {
     "name": "stdout",
     "output_type": "stream",
     "text": [
      "Image manipulation complete and saved to 'images/modified_birds.jpg'\n"
     ]
    }
   ],
   "execution_count": 36
  }
 ],
 "metadata": {
  "kernelspec": {
   "display_name": "Python 3",
   "language": "python",
   "name": "python3"
  },
  "language_info": {
   "codemirror_mode": {
    "name": "ipython",
    "version": 2
   },
   "file_extension": ".py",
   "mimetype": "text/x-python",
   "name": "python",
   "nbconvert_exporter": "python",
   "pygments_lexer": "ipython2",
   "version": "2.7.6"
  }
 },
 "nbformat": 4,
 "nbformat_minor": 5
}
