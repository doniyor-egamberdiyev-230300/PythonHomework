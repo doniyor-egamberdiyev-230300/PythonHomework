{
 "cells": [
  {
   "metadata": {},
   "cell_type": "markdown",
   "source": "### task 1\n",
   "id": "9f09e705ca14a569"
  },
  {
   "metadata": {
    "ExecuteTime": {
     "end_time": "2025-03-30T22:05:15.576678Z",
     "start_time": "2025-03-30T22:05:15.403206Z"
    }
   },
   "cell_type": "code",
   "source": [
    "import numpy as np\n",
    "\n",
    "vector = np.arange(10, 50)\n",
    "print(vector)"
   ],
   "id": "c079864e6c5f84a9",
   "outputs": [
    {
     "name": "stdout",
     "output_type": "stream",
     "text": [
      "[10 11 12 13 14 15 16 17 18 19 20 21 22 23 24 25 26 27 28 29 30 31 32 33\n",
      " 34 35 36 37 38 39 40 41 42 43 44 45 46 47 48 49]\n"
     ]
    }
   ],
   "execution_count": 1
  },
  {
   "metadata": {},
   "cell_type": "markdown",
   "source": "### task 2\n",
   "id": "bf251621b0390f4f"
  },
  {
   "metadata": {
    "ExecuteTime": {
     "end_time": "2025-03-30T22:05:27.739630Z",
     "start_time": "2025-03-30T22:05:27.731349Z"
    }
   },
   "cell_type": "code",
   "source": [
    "matrix = np.arange(9).reshape(3, 3)\n",
    "print(matrix)\n"
   ],
   "id": "e11e8bad1a6ffead",
   "outputs": [
    {
     "name": "stdout",
     "output_type": "stream",
     "text": [
      "[[0 1 2]\n",
      " [3 4 5]\n",
      " [6 7 8]]\n"
     ]
    }
   ],
   "execution_count": 2
  },
  {
   "metadata": {},
   "cell_type": "markdown",
   "source": "### task 3\n",
   "id": "9012c6f046ae1494"
  },
  {
   "metadata": {
    "ExecuteTime": {
     "end_time": "2025-03-30T22:05:32.030695Z",
     "start_time": "2025-03-30T22:05:32.023655Z"
    }
   },
   "cell_type": "code",
   "source": [
    "identity_matrix = np.eye(3)\n",
    "print(identity_matrix)\n"
   ],
   "id": "2333a154db2d8acb",
   "outputs": [
    {
     "name": "stdout",
     "output_type": "stream",
     "text": [
      "[[1. 0. 0.]\n",
      " [0. 1. 0.]\n",
      " [0. 0. 1.]]\n"
     ]
    }
   ],
   "execution_count": 3
  },
  {
   "metadata": {},
   "cell_type": "markdown",
   "source": "### task 4",
   "id": "9c4cb0d8bc355827"
  },
  {
   "metadata": {
    "ExecuteTime": {
     "end_time": "2025-03-30T22:01:23.999107Z",
     "start_time": "2025-03-30T22:01:23.990615Z"
    }
   },
   "cell_type": "code",
   "source": [
    "random_array = np.random.random((3, 3, 3))\n",
    "print(random_array)\n"
   ],
   "id": "9aa6f23e1fc0452b",
   "outputs": [
    {
     "name": "stdout",
     "output_type": "stream",
     "text": [
      "[[[0.17508134 0.0945762  0.01492582]\n",
      "  [0.41722377 0.43613629 0.44705437]\n",
      "  [0.50871683 0.66673479 0.89675112]]\n",
      "\n",
      " [[0.49263753 0.76238426 0.60228784]\n",
      "  [0.7524227  0.26139237 0.73322728]\n",
      "  [0.39809246 0.59147642 0.16991216]]\n",
      "\n",
      " [[0.00756372 0.52155432 0.8113618 ]\n",
      "  [0.8902392  0.05141071 0.95528585]\n",
      "  [0.75610938 0.31809067 0.79493198]]]\n"
     ]
    }
   ],
   "execution_count": 23
  },
  {
   "metadata": {},
   "cell_type": "markdown",
   "source": "### task 5\n",
   "id": "9988c35121143bb4"
  },
  {
   "metadata": {
    "ExecuteTime": {
     "end_time": "2025-03-30T22:01:26.978032Z",
     "start_time": "2025-03-30T22:01:26.957822Z"
    }
   },
   "cell_type": "code",
   "source": [
    "random_array = np.random.random((10, 10))\n",
    "\n",
    "# Finding min and max values\n",
    "min_value = np.min(random_array)\n",
    "max_value = np.max(random_array)\n",
    "\n",
    "print(\"Random 10x10 array:\\n\", random_array)\n",
    "print(\"\\nMinimum value:\", min_value)\n",
    "print(\"Maximum value:\", max_value)\n"
   ],
   "id": "85e7ccebeb6f271a",
   "outputs": [
    {
     "name": "stdout",
     "output_type": "stream",
     "text": [
      "Random 10x10 array:\n",
      " [[0.55929724 0.30160912 0.58858747 0.96900097 0.2029184  0.53450711\n",
      "  0.30789882 0.79740927 0.6669922  0.78594799]\n",
      " [0.25579156 0.86831536 0.50674433 0.37788477 0.16778354 0.55247238\n",
      "  0.70832231 0.78178362 0.29851738 0.4054931 ]\n",
      " [0.29734746 0.62477728 0.1217392  0.60335985 0.20545374 0.47941501\n",
      "  0.6603671  0.59759338 0.13121192 0.71778985]\n",
      " [0.47962909 0.82615187 0.07585405 0.49142574 0.44901408 0.91512973\n",
      "  0.47852051 0.53512039 0.12766512 0.10472609]\n",
      " [0.89966994 0.5594434  0.83052552 0.63762726 0.93158312 0.79815375\n",
      "  0.48394173 0.90063269 0.57623167 0.87514525]\n",
      " [0.16260659 0.8861678  0.97309632 0.10945504 0.02421981 0.54162119\n",
      "  0.42458038 0.25198053 0.04704532 0.45959954]\n",
      " [0.94471895 0.59642156 0.37487482 0.07212182 0.33834979 0.8677085\n",
      "  0.74163876 0.25648849 0.44473158 0.17524747]\n",
      " [0.90331626 0.5257572  0.34391476 0.63439421 0.48191338 0.20404998\n",
      "  0.32949374 0.40020361 0.54270671 0.13994337]\n",
      " [0.48870745 0.088998   0.58499792 0.33293357 0.32844929 0.8929651\n",
      "  0.09637864 0.74257148 0.42327174 0.62853395]\n",
      " [0.88527067 0.54222684 0.34699329 0.50126632 0.12962979 0.60455306\n",
      "  0.35252989 0.98203771 0.3772372  0.7722756 ]]\n",
      "\n",
      "Minimum value: 0.024219805195560884\n",
      "Maximum value: 0.9820377112072337\n"
     ]
    }
   ],
   "execution_count": 24
  },
  {
   "metadata": {},
   "cell_type": "markdown",
   "source": "### task 6\n",
   "id": "bd5e22ece118f2ca"
  },
  {
   "metadata": {
    "ExecuteTime": {
     "end_time": "2025-03-30T22:01:30.075867Z",
     "start_time": "2025-03-30T22:01:30.064815Z"
    }
   },
   "cell_type": "code",
   "source": [
    "random_vector = np.random.random(30)\n",
    "\n",
    "\n",
    "mean_value = np.mean(random_vector)\n",
    "\n",
    "print(\"Random vector:\\n\", random_vector)\n",
    "print(\"\\nMean value:\", mean_value)\n"
   ],
   "id": "3744bb6e0ccf04e",
   "outputs": [
    {
     "name": "stdout",
     "output_type": "stream",
     "text": [
      "Random vector:\n",
      " [8.15323820e-01 5.62954936e-01 9.62790328e-01 4.71288422e-01\n",
      " 9.33410285e-01 5.28616593e-01 7.57286982e-01 1.69877459e-02\n",
      " 9.13923641e-01 5.02843356e-02 7.20984262e-01 6.50097074e-01\n",
      " 4.48859958e-01 2.87985185e-01 6.08535389e-01 1.38772657e-01\n",
      " 7.57083546e-01 8.53035186e-01 7.40723278e-01 8.58770837e-01\n",
      " 5.61002559e-01 2.99703445e-01 7.46325123e-01 8.13118545e-01\n",
      " 9.13020042e-04 6.67392128e-01 6.06272466e-01 6.48825561e-02\n",
      " 3.73414389e-01 6.42111653e-01]\n",
      "\n",
      "Mean value: 0.5617616781546133\n"
     ]
    }
   ],
   "execution_count": 25
  },
  {
   "metadata": {},
   "cell_type": "markdown",
   "source": "### task7",
   "id": "88a5d7650f1150b8"
  },
  {
   "metadata": {
    "ExecuteTime": {
     "end_time": "2025-03-30T21:58:27.098798Z",
     "start_time": "2025-03-30T21:58:27.078502Z"
    }
   },
   "cell_type": "code",
   "source": [
    "matrix = np.random.random((5, 5))\n",
    "\n",
    "# Normalizing the matrix\n",
    "norm_matrix = (matrix - np.min(matrix)) / (np.max(matrix) - np.min(matrix))\n",
    "var = norm_matrix != 0\n",
    "print(\"Original matrix:\\n\", matrix)\n",
    "print(\"\\nNormalized matrix:\\n\", norm_matrix)\n"
   ],
   "id": "29e5319a36a982d5",
   "outputs": [
    {
     "name": "stdout",
     "output_type": "stream",
     "text": [
      "Original matrix:\n",
      " [[0.85599958 0.90181139 0.76388542 0.46809675 0.38573502]\n",
      " [0.50039413 0.18673585 0.05166536 0.61107506 0.69809961]\n",
      " [0.12330629 0.36464558 0.85951281 0.5366845  0.52486969]\n",
      " [0.31019238 0.46454656 0.38715513 0.22275318 0.0367084 ]\n",
      " [0.20960795 0.3149323  0.91202664 0.16025665 0.98524854]]\n",
      "\n",
      "Normalized matrix:\n",
      " [[0.86373906 0.91203624 0.76662757 0.45479187 0.36796188]\n",
      " [0.48884144 0.15816669 0.0157684  0.60552699 0.69727277]\n",
      " [0.09129597 0.34572831 0.8674429  0.52710062 0.51464484]\n",
      " [0.28832093 0.45104909 0.36945904 0.19613801 0.        ]\n",
      " [0.18227964 0.29331801 0.92280568 0.13025094 1.        ]]\n"
     ]
    }
   ],
   "execution_count": 19
  },
  {
   "metadata": {},
   "cell_type": "markdown",
   "source": "### task 8",
   "id": "57c577c4cf93065e"
  },
  {
   "metadata": {
    "ExecuteTime": {
     "end_time": "2025-03-30T21:43:43.757450Z",
     "start_time": "2025-03-30T21:43:43.740788Z"
    }
   },
   "cell_type": "code",
   "source": [
    "A = np.random.random((5, 3))\n",
    "\n",
    "# Creating a 3x2 matrix with random values\n",
    "B = np.random.random((3, 2))\n",
    "\n",
    "# Matrix multiplication (dot product)\n",
    "C = np.dot(A, B)\n",
    "\n",
    "print(\"Matrix A (5x3):\\n\", A)\n",
    "print(\"\\nMatrix B (3x2):\\n\", B)\n",
    "print(\"\\nResulting Matrix C (5x2):\\n\", C)\n"
   ],
   "id": "b43db5f1deac7ac2",
   "outputs": [
    {
     "name": "stdout",
     "output_type": "stream",
     "text": [
      "Matrix A (5x3):\n",
      " [[0.56432294 0.0199003  0.38483431]\n",
      " [0.70514924 0.26165401 0.5698361 ]\n",
      " [0.39214006 0.69345024 0.06912675]\n",
      " [0.57199112 0.25451743 0.25860234]\n",
      " [0.35457689 0.41929103 0.03242411]]\n",
      "\n",
      "Matrix B (3x2):\n",
      " [[0.4348381  0.30552969]\n",
      " [0.13261027 0.12047425]\n",
      " [0.07724528 0.96573559]]\n",
      "\n",
      "Resulting Matrix C (5x2):\n",
      " [[0.27775474 0.54646307]\n",
      " [0.38534091 0.7972776 ]\n",
      " [0.26781578 0.27011149]\n",
      " [0.30245097 0.45516454]\n",
      " [0.21229045 0.19016065]]\n"
     ]
    }
   ],
   "execution_count": 11
  },
  {
   "metadata": {},
   "cell_type": "markdown",
   "source": "### task 9",
   "id": "875a0f622edb4fad"
  },
  {
   "metadata": {
    "ExecuteTime": {
     "end_time": "2025-03-30T21:44:40.597225Z",
     "start_time": "2025-03-30T21:44:40.584483Z"
    }
   },
   "cell_type": "code",
   "source": [
    "A = np.random.random((3, 3))\n",
    "B = np.random.random((3, 3))\n",
    "\n",
    "# Computing the dot product\n",
    "C = np.dot(A, B)\n",
    "\n",
    "print(\"Matrix A:\\n\", A)\n",
    "print(\"\\nMatrix B:\\n\", B)\n",
    "print(\"\\nDot Product (A * B):\\n\", C)\n"
   ],
   "id": "fa0135f25d49a75f",
   "outputs": [
    {
     "name": "stdout",
     "output_type": "stream",
     "text": [
      "Matrix A:\n",
      " [[0.3766694  0.68462411 0.58904232]\n",
      " [0.9591085  0.10188724 0.42066871]\n",
      " [0.5931688  0.4742994  0.26368187]]\n",
      "\n",
      "Matrix B:\n",
      " [[0.12991668 0.75749804 0.51023884]\n",
      " [0.29823151 0.60512571 0.22386394]\n",
      " [0.44109336 0.59537593 0.85942758]]\n",
      "\n",
      "Dot Product (A * B):\n",
      " [[0.51293477 1.0503116  0.85169322]\n",
      " [0.34054435 1.03863342 0.87371759]\n",
      " [0.33482187 0.8933248  0.63545177]]\n"
     ]
    }
   ],
   "execution_count": 12
  },
  {
   "metadata": {},
   "cell_type": "markdown",
   "source": "### task 10\n",
   "id": "5fbfdb2f7f9ed9c8"
  },
  {
   "metadata": {
    "ExecuteTime": {
     "end_time": "2025-03-30T21:45:44.029435Z",
     "start_time": "2025-03-30T21:45:44.007788Z"
    }
   },
   "cell_type": "code",
   "source": [
    "A = np.random.random((4, 4))\n",
    "\n",
    "# Computing the transpose\n",
    "A_transpose = A.T\n",
    "\n",
    "print(\"Original Matrix (A):\\n\", A)\n",
    "print(\"\\nTranspose of Matrix (A^T):\\n\", A_transpose)"
   ],
   "id": "7653ba93d02d053e",
   "outputs": [
    {
     "name": "stdout",
     "output_type": "stream",
     "text": [
      "Original Matrix (A):\n",
      " [[0.71825957 0.74676841 0.28531707 0.15643017]\n",
      " [0.20622713 0.66832151 0.42851637 0.96891164]\n",
      " [0.12227581 0.6773098  0.89204063 0.14545271]\n",
      " [0.02726848 0.92016044 0.75902502 0.70996806]]\n",
      "\n",
      "Transpose of Matrix (A^T):\n",
      " [[0.71825957 0.20622713 0.12227581 0.02726848]\n",
      " [0.74676841 0.66832151 0.6773098  0.92016044]\n",
      " [0.28531707 0.42851637 0.89204063 0.75902502]\n",
      " [0.15643017 0.96891164 0.14545271 0.70996806]]\n"
     ]
    }
   ],
   "execution_count": 13
  },
  {
   "metadata": {},
   "cell_type": "markdown",
   "source": "### task 11\n",
   "id": "aaeb4228ba2a997f"
  },
  {
   "metadata": {
    "ExecuteTime": {
     "end_time": "2025-03-30T21:46:45.427490Z",
     "start_time": "2025-03-30T21:46:45.413396Z"
    }
   },
   "cell_type": "code",
   "source": [
    "\n",
    "A = np.random.randint(1, 10, (3, 3))\n",
    "\n",
    "# Computing the determinant\n",
    "det_A = np.linalg.det(A)\n",
    "\n",
    "print(\"Matrix (A):\\n\", A)\n",
    "print(\"\\nDeterminant of A:\", det_A)\n"
   ],
   "id": "da7ae99ea197c8e4",
   "outputs": [
    {
     "name": "stdout",
     "output_type": "stream",
     "text": [
      "Matrix (A):\n",
      " [[2 6 7]\n",
      " [4 8 4]\n",
      " [2 4 3]]\n",
      "\n",
      "Determinant of A: -7.999999999999998\n"
     ]
    }
   ],
   "execution_count": 14
  },
  {
   "metadata": {},
   "cell_type": "markdown",
   "source": "### task 12\n",
   "id": "5667e20507463ba9"
  },
  {
   "metadata": {
    "ExecuteTime": {
     "end_time": "2025-03-30T21:47:50.267121Z",
     "start_time": "2025-03-30T21:47:50.251591Z"
    }
   },
   "cell_type": "code",
   "source": [
    "A = np.random.randint(1, 10, (3, 4))\n",
    "\n",
    "# Creating a 4x3 matrix (B)\n",
    "B = np.random.randint(1, 10, (4, 3))\n",
    "\n",
    "# Computing the matrix product A · B\n",
    "C = np.dot(A, B)\n",
    "\n",
    "print(\"Matrix A (3x4):\\n\", A)\n",
    "print(\"\\nMatrix B (4x3):\\n\", B)\n",
    "print(\"\\nMatrix Product A · B (3x3):\\n\", C)\n"
   ],
   "id": "30228730f94e2a93",
   "outputs": [
    {
     "name": "stdout",
     "output_type": "stream",
     "text": [
      "Matrix A (3x4):\n",
      " [[5 8 9 2]\n",
      " [9 9 3 6]\n",
      " [2 1 2 4]]\n",
      "\n",
      "Matrix B (4x3):\n",
      " [[6 7 7]\n",
      " [6 3 8]\n",
      " [5 1 5]\n",
      " [9 1 4]]\n",
      "\n",
      "Matrix Product A · B (3x3):\n",
      " [[141  70 152]\n",
      " [177  99 174]\n",
      " [ 64  23  48]]\n"
     ]
    }
   ],
   "execution_count": 15
  },
  {
   "metadata": {},
   "cell_type": "markdown",
   "source": "### task 13\n",
   "id": "80a6e0a059e37380"
  },
  {
   "metadata": {
    "ExecuteTime": {
     "end_time": "2025-03-30T21:48:48.058502Z",
     "start_time": "2025-03-30T21:48:48.034939Z"
    }
   },
   "cell_type": "code",
   "source": [
    "A = np.random.randint(1, 10, (3, 3))\n",
    "\n",
    "# Creating a 3-element column vector\n",
    "v = np.random.randint(1, 10, (3, 1))\n",
    "\n",
    "# Computing the matrix-vector product\n",
    "result = np.dot(A, v)\n",
    "\n",
    "print(\"Matrix A (3x3):\\n\", A)\n",
    "print(\"\\nColumn Vector v (3x1):\\n\", v)\n",
    "print(\"\\nMatrix-Vector Product A · v (3x1):\\n\", result)\n"
   ],
   "id": "5b84f0491784af39",
   "outputs": [
    {
     "name": "stdout",
     "output_type": "stream",
     "text": [
      "Matrix A (3x3):\n",
      " [[8 9 2]\n",
      " [1 8 1]\n",
      " [1 2 4]]\n",
      "\n",
      "Column Vector v (3x1):\n",
      " [[2]\n",
      " [3]\n",
      " [3]]\n",
      "\n",
      "Matrix-Vector Product A · v (3x1):\n",
      " [[49]\n",
      " [29]\n",
      " [20]]\n"
     ]
    }
   ],
   "execution_count": 16
  },
  {
   "metadata": {},
   "cell_type": "markdown",
   "source": "### task 14",
   "id": "b191550373fed515"
  },
  {
   "metadata": {
    "ExecuteTime": {
     "end_time": "2025-03-30T21:50:14.599375Z",
     "start_time": "2025-03-30T21:50:14.586494Z"
    }
   },
   "cell_type": "code",
   "source": [
    "\n",
    "A = np.random.randint(1, 10, (3, 3))\n",
    "\n",
    "# Creating a random 3x1 column vector\n",
    "b = np.random.randint(1, 10, (3, 1))\n",
    "\n",
    "# Solving for x in Ax = b\n",
    "try:\n",
    "    x = np.linalg.solve(A, b)\n",
    "    print(\"Matrix A (3x3):\\n\", A)\n",
    "    print(\"\\nColumn Vector b (3x1):\\n\", b)\n",
    "    print(\"\\nSolution x (3x1):\\n\", x)\n",
    "except np.linalg.LinAlgError:\n",
    "    print(\"Matrix A is singular and cannot be inverted.\")\n"
   ],
   "id": "692e7af981379a45",
   "outputs": [
    {
     "name": "stdout",
     "output_type": "stream",
     "text": [
      "Matrix A (3x3):\n",
      " [[8 7 9]\n",
      " [2 9 4]\n",
      " [2 6 9]]\n",
      "\n",
      "Column Vector b (3x1):\n",
      " [[1]\n",
      " [4]\n",
      " [8]]\n",
      "\n",
      "Solution x (3x1):\n",
      " [[-1.21385542]\n",
      " [ 0.28313253]\n",
      " [ 0.96987952]]\n"
     ]
    }
   ],
   "execution_count": 17
  },
  {
   "metadata": {},
   "cell_type": "markdown",
   "source": "### task 15",
   "id": "c96db0996942526"
  },
  {
   "metadata": {
    "ExecuteTime": {
     "end_time": "2025-03-30T21:51:05.468982Z",
     "start_time": "2025-03-30T21:51:05.445164Z"
    }
   },
   "cell_type": "code",
   "source": [
    "A = np.random.randint(1, 10, (5, 5))\n",
    "\n",
    "# Compute row-wise sums\n",
    "row_sums = np.sum(A, axis=1)\n",
    "\n",
    "# Compute column-wise sums\n",
    "col_sums = np.sum(A, axis=0)\n",
    "\n",
    "# Print results\n",
    "print(\"Matrix A (5x5):\\n\", A)\n",
    "print(\"\\nRow-wise sums:\\n\", row_sums)\n",
    "print(\"\\nColumn-wise sums:\\n\", col_sums)\n"
   ],
   "id": "decbf941f2c4c0b4",
   "outputs": [
    {
     "name": "stdout",
     "output_type": "stream",
     "text": [
      "Matrix A (5x5):\n",
      " [[3 2 3 5 8]\n",
      " [3 7 5 9 9]\n",
      " [9 6 2 8 1]\n",
      " [5 1 8 2 1]\n",
      " [9 8 4 9 8]]\n",
      "\n",
      "Row-wise sums:\n",
      " [21 33 26 17 38]\n",
      "\n",
      "Column-wise sums:\n",
      " [29 24 22 33 27]\n"
     ]
    }
   ],
   "execution_count": 18
  }
 ],
 "metadata": {
  "kernelspec": {
   "display_name": "Python 3.12",
   "language": "python",
   "name": "python312"
  },
  "language_info": {
   "codemirror_mode": {
    "name": "ipython",
    "version": 2
   },
   "file_extension": ".py",
   "mimetype": "text/x-python",
   "name": "python",
   "nbconvert_exporter": "python",
   "pygments_lexer": "ipython2",
   "version": "2.7.6"
  }
 },
 "nbformat": 4,
 "nbformat_minor": 5
}
