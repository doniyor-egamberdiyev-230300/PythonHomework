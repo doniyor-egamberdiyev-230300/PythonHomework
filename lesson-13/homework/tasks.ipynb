{
 "cells": [
  {
   "metadata": {},
   "cell_type": "markdown",
   "source": "### task 1\n",
   "id": "9f09e705ca14a569"
  },
  {
   "metadata": {
    "ExecuteTime": {
     "end_time": "2025-03-30T21:34:28.214003Z",
     "start_time": "2025-03-30T21:34:28.203508Z"
    }
   },
   "cell_type": "code",
   "source": [
    "import numpy as np\n",
    "\n",
    "vector = np.arange(10, 50)\n",
    "print(vector)"
   ],
   "id": "c079864e6c5f84a9",
   "outputs": [
    {
     "name": "stdout",
     "output_type": "stream",
     "text": [
      "[10 11 12 13 14 15 16 17 18 19 20 21 22 23 24 25 26 27 28 29 30 31 32 33\n",
      " 34 35 36 37 38 39 40 41 42 43 44 45 46 47 48 49]\n"
     ]
    }
   ],
   "execution_count": 3
  },
  {
   "metadata": {},
   "cell_type": "markdown",
   "source": "### task 2\n",
   "id": "bf251621b0390f4f"
  },
  {
   "metadata": {
    "ExecuteTime": {
     "end_time": "2025-03-30T21:34:35.258423Z",
     "start_time": "2025-03-30T21:34:35.244119Z"
    }
   },
   "cell_type": "code",
   "source": [
    "matrix = np.arange(9).reshape(3, 3)\n",
    "print(matrix)\n"
   ],
   "id": "e11e8bad1a6ffead",
   "outputs": [
    {
     "name": "stdout",
     "output_type": "stream",
     "text": [
      "[[0 1 2]\n",
      " [3 4 5]\n",
      " [6 7 8]]\n"
     ]
    }
   ],
   "execution_count": 5
  },
  {
   "metadata": {},
   "cell_type": "markdown",
   "source": "### task 3\n",
   "id": "9012c6f046ae1494"
  },
  {
   "metadata": {
    "ExecuteTime": {
     "end_time": "2025-03-30T21:37:16.958221Z",
     "start_time": "2025-03-30T21:37:16.944498Z"
    }
   },
   "cell_type": "code",
   "source": [
    "identity_matrix = np.eye(3)\n",
    "print(identity_matrix)\n"
   ],
   "id": "2333a154db2d8acb",
   "outputs": [
    {
     "name": "stdout",
     "output_type": "stream",
     "text": [
      "[[1. 0. 0.]\n",
      " [0. 1. 0.]\n",
      " [0. 0. 1.]]\n"
     ]
    }
   ],
   "execution_count": 6
  },
  {
   "metadata": {},
   "cell_type": "markdown",
   "source": "### task 4",
   "id": "9c4cb0d8bc355827"
  },
  {
   "metadata": {
    "ExecuteTime": {
     "end_time": "2025-03-30T21:38:29.244298Z",
     "start_time": "2025-03-30T21:38:28.905569Z"
    }
   },
   "cell_type": "code",
   "source": [
    "random_array = np.random.random((3, 3, 3))\n",
    "print(random_array)\n"
   ],
   "id": "9aa6f23e1fc0452b",
   "outputs": [
    {
     "name": "stdout",
     "output_type": "stream",
     "text": [
      "[[[0.39220343 0.63418722 0.91398828]\n",
      "  [0.83371805 0.81273372 0.36090169]\n",
      "  [0.30214404 0.08996961 0.82439219]]\n",
      "\n",
      " [[0.38905647 0.89987311 0.40308551]\n",
      "  [0.86541008 0.09240264 0.86405112]\n",
      "  [0.09375786 0.98168517 0.83567484]]\n",
      "\n",
      " [[0.03312093 0.22879443 0.09450839]\n",
      "  [0.53333559 0.90001379 0.98408007]\n",
      "  [0.80814924 0.01163608 0.6250861 ]]]\n"
     ]
    }
   ],
   "execution_count": 7
  },
  {
   "metadata": {},
   "cell_type": "markdown",
   "source": "### task 5\n",
   "id": "9988c35121143bb4"
  },
  {
   "metadata": {
    "ExecuteTime": {
     "end_time": "2025-03-30T21:39:48.754975Z",
     "start_time": "2025-03-30T21:39:48.727863Z"
    }
   },
   "cell_type": "code",
   "source": [
    "random_array = np.random.random((10, 10))\n",
    "\n",
    "# Finding min and max values\n",
    "min_value = np.min(random_array)\n",
    "max_value = np.max(random_array)\n",
    "\n",
    "print(\"Random 10x10 array:\\n\", random_array)\n",
    "print(\"\\nMinimum value:\", min_value)\n",
    "print(\"Maximum value:\", max_value)\n"
   ],
   "id": "85e7ccebeb6f271a",
   "outputs": [
    {
     "name": "stdout",
     "output_type": "stream",
     "text": [
      "Random 10x10 array:\n",
      " [[0.05956566 0.08741919 0.59490787 0.55248661 0.88842837 0.91756011\n",
      "  0.05056103 0.54039319 0.56139129 0.06455964]\n",
      " [0.35608845 0.11644532 0.31365866 0.01418488 0.62970169 0.76185358\n",
      "  0.14761335 0.59598868 0.83170571 0.10850083]\n",
      " [0.6185716  0.96869757 0.72034024 0.3766598  0.20876975 0.55734126\n",
      "  0.55135257 0.305018   0.45306383 0.50652237]\n",
      " [0.67171459 0.16680336 0.33559412 0.88081461 0.11436422 0.0900887\n",
      "  0.01101564 0.55487317 0.38472095 0.83779915]\n",
      " [0.21843282 0.32726917 0.13439793 0.22297798 0.86894578 0.90624965\n",
      "  0.64832083 0.83568892 0.60483256 0.58024218]\n",
      " [0.12676722 0.67620208 0.34601342 0.04358171 0.31405033 0.82808517\n",
      "  0.00723705 0.32649767 0.76830651 0.31246892]\n",
      " [0.1483587  0.76224104 0.01698831 0.012359   0.23775018 0.41018037\n",
      "  0.3006904  0.83878829 0.57193807 0.47185791]\n",
      " [0.06827085 0.51290563 0.37448506 0.49007127 0.63658745 0.50575839\n",
      "  0.24328155 0.82399742 0.55671295 0.00708526]\n",
      " [0.76681125 0.16353457 0.47434671 0.44206872 0.08463323 0.469\n",
      "  0.01774235 0.09927736 0.59592263 0.79996375]\n",
      " [0.1764883  0.90286199 0.19552521 0.85814338 0.8297394  0.33709767\n",
      "  0.96122247 0.0222225  0.48287888 0.57445509]]\n",
      "\n",
      "Minimum value: 0.007085264265002222\n",
      "Maximum value: 0.96869757039601\n"
     ]
    }
   ],
   "execution_count": 8
  },
  {
   "metadata": {},
   "cell_type": "markdown",
   "source": "### task 6\n",
   "id": "bd5e22ece118f2ca"
  },
  {
   "metadata": {
    "ExecuteTime": {
     "end_time": "2025-03-30T21:41:32.960732Z",
     "start_time": "2025-03-30T21:41:32.951326Z"
    }
   },
   "cell_type": "code",
   "source": [
    "random_vector = np.random.random(30)\n",
    "\n",
    "\n",
    "mean_value = np.mean(random_vector)\n",
    "\n",
    "print(\"Random vector:\\n\", random_vector)\n",
    "print(\"\\nMean value:\", mean_value)\n"
   ],
   "id": "3744bb6e0ccf04e",
   "outputs": [
    {
     "name": "stdout",
     "output_type": "stream",
     "text": [
      "Random vector:\n",
      " [0.35155426 0.4510894  0.82558301 0.01549652 0.18058633 0.66328768\n",
      " 0.22126956 0.78909588 0.57290412 0.64994355 0.64938277 0.27664145\n",
      " 0.86512108 0.09538084 0.05931165 0.90073776 0.84733428 0.26127629\n",
      " 0.47046531 0.92988917 0.60821598 0.4343799  0.87046892 0.77353954\n",
      " 0.54908136 0.84573088 0.2565153  0.58987734 0.33360311 0.22599132]\n",
      "\n",
      "Mean value: 0.5187918189540804\n"
     ]
    }
   ],
   "execution_count": 9
  },
  {
   "metadata": {},
   "cell_type": "markdown",
   "source": "### task7",
   "id": "88a5d7650f1150b8"
  },
  {
   "metadata": {
    "ExecuteTime": {
     "end_time": "2025-03-30T21:42:31.828304Z",
     "start_time": "2025-03-30T21:42:31.813351Z"
    }
   },
   "cell_type": "code",
   "source": [
    "matrix = np.random.random((5, 5))\n",
    "\n",
    "# Normalizing the matrix\n",
    "norm_matrix = (matrix - np.min(matrix)) / (np.max(matrix) - np.min(matrix))\n",
    "\n",
    "print(\"Original matrix:\\n\", matrix)\n",
    "print(\"\\nNormalized matrix:\\n\", norm_matrix)\n"
   ],
   "id": "29e5319a36a982d5",
   "outputs": [
    {
     "name": "stdout",
     "output_type": "stream",
     "text": [
      "Original matrix:\n",
      " [[0.60004023 0.18281081 0.4183599  0.55217535 0.27256449]\n",
      " [0.6017779  0.79725947 0.56047506 0.78377716 0.12674292]\n",
      " [0.33973529 0.03679406 0.44069808 0.87775474 0.17253015]\n",
      " [0.12248469 0.02997588 0.81571481 0.2160708  0.79101496]\n",
      " [0.1676021  0.02851248 0.67399005 0.70820406 0.13338469]]\n",
      "\n",
      "Normalized matrix:\n",
      " [[0.67298553 0.18168942 0.45905326 0.61662366 0.2873762 ]\n",
      " [0.67503167 0.90521519 0.62639674 0.88933949 0.11566834]\n",
      " [0.36647118 0.00975173 0.48535692 1.         0.16958373]\n",
      " [0.1106542  0.00172319 0.92694672 0.22085373 0.89786215]\n",
      " [0.16378085 0.         0.76006294 0.80035063 0.12348916]]\n"
     ]
    }
   ],
   "execution_count": 10
  },
  {
   "metadata": {},
   "cell_type": "markdown",
   "source": "### task 8",
   "id": "57c577c4cf93065e"
  },
  {
   "metadata": {
    "ExecuteTime": {
     "end_time": "2025-03-30T21:43:43.757450Z",
     "start_time": "2025-03-30T21:43:43.740788Z"
    }
   },
   "cell_type": "code",
   "source": [
    "A = np.random.random((5, 3))\n",
    "\n",
    "# Creating a 3x2 matrix with random values\n",
    "B = np.random.random((3, 2))\n",
    "\n",
    "# Matrix multiplication (dot product)\n",
    "C = np.dot(A, B)\n",
    "\n",
    "print(\"Matrix A (5x3):\\n\", A)\n",
    "print(\"\\nMatrix B (3x2):\\n\", B)\n",
    "print(\"\\nResulting Matrix C (5x2):\\n\", C)\n"
   ],
   "id": "b43db5f1deac7ac2",
   "outputs": [
    {
     "name": "stdout",
     "output_type": "stream",
     "text": [
      "Matrix A (5x3):\n",
      " [[0.56432294 0.0199003  0.38483431]\n",
      " [0.70514924 0.26165401 0.5698361 ]\n",
      " [0.39214006 0.69345024 0.06912675]\n",
      " [0.57199112 0.25451743 0.25860234]\n",
      " [0.35457689 0.41929103 0.03242411]]\n",
      "\n",
      "Matrix B (3x2):\n",
      " [[0.4348381  0.30552969]\n",
      " [0.13261027 0.12047425]\n",
      " [0.07724528 0.96573559]]\n",
      "\n",
      "Resulting Matrix C (5x2):\n",
      " [[0.27775474 0.54646307]\n",
      " [0.38534091 0.7972776 ]\n",
      " [0.26781578 0.27011149]\n",
      " [0.30245097 0.45516454]\n",
      " [0.21229045 0.19016065]]\n"
     ]
    }
   ],
   "execution_count": 11
  },
  {
   "metadata": {},
   "cell_type": "markdown",
   "source": "### task 9",
   "id": "875a0f622edb4fad"
  },
  {
   "metadata": {
    "ExecuteTime": {
     "end_time": "2025-03-30T21:44:40.597225Z",
     "start_time": "2025-03-30T21:44:40.584483Z"
    }
   },
   "cell_type": "code",
   "source": [
    "A = np.random.random((3, 3))\n",
    "B = np.random.random((3, 3))\n",
    "\n",
    "# Computing the dot product\n",
    "C = np.dot(A, B)\n",
    "\n",
    "print(\"Matrix A:\\n\", A)\n",
    "print(\"\\nMatrix B:\\n\", B)\n",
    "print(\"\\nDot Product (A * B):\\n\", C)\n"
   ],
   "id": "fa0135f25d49a75f",
   "outputs": [
    {
     "name": "stdout",
     "output_type": "stream",
     "text": [
      "Matrix A:\n",
      " [[0.3766694  0.68462411 0.58904232]\n",
      " [0.9591085  0.10188724 0.42066871]\n",
      " [0.5931688  0.4742994  0.26368187]]\n",
      "\n",
      "Matrix B:\n",
      " [[0.12991668 0.75749804 0.51023884]\n",
      " [0.29823151 0.60512571 0.22386394]\n",
      " [0.44109336 0.59537593 0.85942758]]\n",
      "\n",
      "Dot Product (A * B):\n",
      " [[0.51293477 1.0503116  0.85169322]\n",
      " [0.34054435 1.03863342 0.87371759]\n",
      " [0.33482187 0.8933248  0.63545177]]\n"
     ]
    }
   ],
   "execution_count": 12
  },
  {
   "metadata": {},
   "cell_type": "markdown",
   "source": "### task 10\n",
   "id": "5fbfdb2f7f9ed9c8"
  },
  {
   "metadata": {
    "ExecuteTime": {
     "end_time": "2025-03-30T21:45:44.029435Z",
     "start_time": "2025-03-30T21:45:44.007788Z"
    }
   },
   "cell_type": "code",
   "source": [
    "A = np.random.random((4, 4))\n",
    "\n",
    "# Computing the transpose\n",
    "A_transpose = A.T\n",
    "\n",
    "print(\"Original Matrix (A):\\n\", A)\n",
    "print(\"\\nTranspose of Matrix (A^T):\\n\", A_transpose)"
   ],
   "id": "7653ba93d02d053e",
   "outputs": [
    {
     "name": "stdout",
     "output_type": "stream",
     "text": [
      "Original Matrix (A):\n",
      " [[0.71825957 0.74676841 0.28531707 0.15643017]\n",
      " [0.20622713 0.66832151 0.42851637 0.96891164]\n",
      " [0.12227581 0.6773098  0.89204063 0.14545271]\n",
      " [0.02726848 0.92016044 0.75902502 0.70996806]]\n",
      "\n",
      "Transpose of Matrix (A^T):\n",
      " [[0.71825957 0.20622713 0.12227581 0.02726848]\n",
      " [0.74676841 0.66832151 0.6773098  0.92016044]\n",
      " [0.28531707 0.42851637 0.89204063 0.75902502]\n",
      " [0.15643017 0.96891164 0.14545271 0.70996806]]\n"
     ]
    }
   ],
   "execution_count": 13
  },
  {
   "metadata": {},
   "cell_type": "markdown",
   "source": "### task 11\n",
   "id": "aaeb4228ba2a997f"
  },
  {
   "metadata": {
    "ExecuteTime": {
     "end_time": "2025-03-30T21:46:45.427490Z",
     "start_time": "2025-03-30T21:46:45.413396Z"
    }
   },
   "cell_type": "code",
   "source": [
    "\n",
    "A = np.random.randint(1, 10, (3, 3))\n",
    "\n",
    "# Computing the determinant\n",
    "det_A = np.linalg.det(A)\n",
    "\n",
    "print(\"Matrix (A):\\n\", A)\n",
    "print(\"\\nDeterminant of A:\", det_A)\n"
   ],
   "id": "da7ae99ea197c8e4",
   "outputs": [
    {
     "name": "stdout",
     "output_type": "stream",
     "text": [
      "Matrix (A):\n",
      " [[2 6 7]\n",
      " [4 8 4]\n",
      " [2 4 3]]\n",
      "\n",
      "Determinant of A: -7.999999999999998\n"
     ]
    }
   ],
   "execution_count": 14
  },
  {
   "metadata": {},
   "cell_type": "markdown",
   "source": "### task 12\n",
   "id": "5667e20507463ba9"
  },
  {
   "metadata": {
    "ExecuteTime": {
     "end_time": "2025-03-30T21:47:50.267121Z",
     "start_time": "2025-03-30T21:47:50.251591Z"
    }
   },
   "cell_type": "code",
   "source": [
    "A = np.random.randint(1, 10, (3, 4))\n",
    "\n",
    "# Creating a 4x3 matrix (B)\n",
    "B = np.random.randint(1, 10, (4, 3))\n",
    "\n",
    "# Computing the matrix product A · B\n",
    "C = np.dot(A, B)\n",
    "\n",
    "print(\"Matrix A (3x4):\\n\", A)\n",
    "print(\"\\nMatrix B (4x3):\\n\", B)\n",
    "print(\"\\nMatrix Product A · B (3x3):\\n\", C)\n"
   ],
   "id": "30228730f94e2a93",
   "outputs": [
    {
     "name": "stdout",
     "output_type": "stream",
     "text": [
      "Matrix A (3x4):\n",
      " [[5 8 9 2]\n",
      " [9 9 3 6]\n",
      " [2 1 2 4]]\n",
      "\n",
      "Matrix B (4x3):\n",
      " [[6 7 7]\n",
      " [6 3 8]\n",
      " [5 1 5]\n",
      " [9 1 4]]\n",
      "\n",
      "Matrix Product A · B (3x3):\n",
      " [[141  70 152]\n",
      " [177  99 174]\n",
      " [ 64  23  48]]\n"
     ]
    }
   ],
   "execution_count": 15
  },
  {
   "metadata": {},
   "cell_type": "markdown",
   "source": "### task 13\n",
   "id": "80a6e0a059e37380"
  },
  {
   "metadata": {
    "ExecuteTime": {
     "end_time": "2025-03-30T21:48:48.058502Z",
     "start_time": "2025-03-30T21:48:48.034939Z"
    }
   },
   "cell_type": "code",
   "source": [
    "A = np.random.randint(1, 10, (3, 3))\n",
    "\n",
    "# Creating a 3-element column vector\n",
    "v = np.random.randint(1, 10, (3, 1))\n",
    "\n",
    "# Computing the matrix-vector product\n",
    "result = np.dot(A, v)\n",
    "\n",
    "print(\"Matrix A (3x3):\\n\", A)\n",
    "print(\"\\nColumn Vector v (3x1):\\n\", v)\n",
    "print(\"\\nMatrix-Vector Product A · v (3x1):\\n\", result)\n"
   ],
   "id": "5b84f0491784af39",
   "outputs": [
    {
     "name": "stdout",
     "output_type": "stream",
     "text": [
      "Matrix A (3x3):\n",
      " [[8 9 2]\n",
      " [1 8 1]\n",
      " [1 2 4]]\n",
      "\n",
      "Column Vector v (3x1):\n",
      " [[2]\n",
      " [3]\n",
      " [3]]\n",
      "\n",
      "Matrix-Vector Product A · v (3x1):\n",
      " [[49]\n",
      " [29]\n",
      " [20]]\n"
     ]
    }
   ],
   "execution_count": 16
  },
  {
   "metadata": {},
   "cell_type": "markdown",
   "source": "### task 14",
   "id": "b191550373fed515"
  },
  {
   "metadata": {
    "ExecuteTime": {
     "end_time": "2025-03-30T21:50:14.599375Z",
     "start_time": "2025-03-30T21:50:14.586494Z"
    }
   },
   "cell_type": "code",
   "source": [
    "\n",
    "A = np.random.randint(1, 10, (3, 3))\n",
    "\n",
    "# Creating a random 3x1 column vector\n",
    "b = np.random.randint(1, 10, (3, 1))\n",
    "\n",
    "# Solving for x in Ax = b\n",
    "try:\n",
    "    x = np.linalg.solve(A, b)\n",
    "    print(\"Matrix A (3x3):\\n\", A)\n",
    "    print(\"\\nColumn Vector b (3x1):\\n\", b)\n",
    "    print(\"\\nSolution x (3x1):\\n\", x)\n",
    "except np.linalg.LinAlgError:\n",
    "    print(\"Matrix A is singular and cannot be inverted.\")\n"
   ],
   "id": "692e7af981379a45",
   "outputs": [
    {
     "name": "stdout",
     "output_type": "stream",
     "text": [
      "Matrix A (3x3):\n",
      " [[8 7 9]\n",
      " [2 9 4]\n",
      " [2 6 9]]\n",
      "\n",
      "Column Vector b (3x1):\n",
      " [[1]\n",
      " [4]\n",
      " [8]]\n",
      "\n",
      "Solution x (3x1):\n",
      " [[-1.21385542]\n",
      " [ 0.28313253]\n",
      " [ 0.96987952]]\n"
     ]
    }
   ],
   "execution_count": 17
  },
  {
   "metadata": {},
   "cell_type": "markdown",
   "source": "### task 15",
   "id": "c96db0996942526"
  },
  {
   "metadata": {
    "ExecuteTime": {
     "end_time": "2025-03-30T21:51:05.468982Z",
     "start_time": "2025-03-30T21:51:05.445164Z"
    }
   },
   "cell_type": "code",
   "source": [
    "A = np.random.randint(1, 10, (5, 5))\n",
    "\n",
    "# Compute row-wise sums\n",
    "row_sums = np.sum(A, axis=1)\n",
    "\n",
    "# Compute column-wise sums\n",
    "col_sums = np.sum(A, axis=0)\n",
    "\n",
    "# Print results\n",
    "print(\"Matrix A (5x5):\\n\", A)\n",
    "print(\"\\nRow-wise sums:\\n\", row_sums)\n",
    "print(\"\\nColumn-wise sums:\\n\", col_sums)\n"
   ],
   "id": "decbf941f2c4c0b4",
   "outputs": [
    {
     "name": "stdout",
     "output_type": "stream",
     "text": [
      "Matrix A (5x5):\n",
      " [[3 2 3 5 8]\n",
      " [3 7 5 9 9]\n",
      " [9 6 2 8 1]\n",
      " [5 1 8 2 1]\n",
      " [9 8 4 9 8]]\n",
      "\n",
      "Row-wise sums:\n",
      " [21 33 26 17 38]\n",
      "\n",
      "Column-wise sums:\n",
      " [29 24 22 33 27]\n"
     ]
    }
   ],
   "execution_count": 18
  }
 ],
 "metadata": {
  "kernelspec": {
   "display_name": "python313",
   "language": "python",
   "name": "python313"
  },
  "language_info": {
   "codemirror_mode": {
    "name": "ipython",
    "version": 2
   },
   "file_extension": ".py",
   "mimetype": "text/x-python",
   "name": "python",
   "nbconvert_exporter": "python",
   "pygments_lexer": "ipython2",
   "version": "2.7.6"
  }
 },
 "nbformat": 4,
 "nbformat_minor": 5
}
